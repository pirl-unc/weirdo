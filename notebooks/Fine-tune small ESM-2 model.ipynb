{
 "cells": [
  {
   "cell_type": "code",
   "execution_count": 10,
   "id": "a99e4da1",
   "metadata": {},
   "outputs": [
    {
     "name": "stdout",
     "output_type": "stream",
     "text": [
      "    esm2_t6_8M_UR50D: depth=6, size=8M\n",
      "  esm2_t12_35M_UR50D: depth=12, size=35M\n",
      " esm2_t30_150M_UR50D: depth=30, size=150M\n",
      " esm2_t33_650M_UR50D: depth=33, size=650M\n",
      "   esm2_t36_3B_UR50D: depth=36, size=3B\n",
      "  esm2_t48_15B_UR50D: depth=48, size=15B\n",
      "                 ---\n",
      "      Smallest model: esm2_t6_8M_UR50D\n",
      "       Biggest model: esm2_t48_15B_UR50D\n"
     ]
    }
   ],
   "source": [
    "\n",
    "\n",
    "esm_model_names = [\n",
    "    \"esm2_t6_8M_UR50D\",\n",
    "    \"esm2_t12_35M_UR50D\",\n",
    "    \"esm2_t30_150M_UR50D\",\n",
    "    \"esm2_t33_650M_UR50D\",\n",
    "    \"esm2_t36_3B_UR50D\",\n",
    "    \"esm2_t48_15B_UR50D\",\n",
    "]\n",
    "\n",
    "esm_model_depth = {}\n",
    "esm_model_size_string = {}\n",
    "esm_model_size_int = {}\n",
    "\n",
    "for name in esm_model_names:\n",
    "    parts = name.split(\"_\")\n",
    "    depth = int(parts[1][1:])\n",
    "    esm_model_depth[name] = depth\n",
    "    size_string = parts[2]\n",
    "    esm_model_size_string[name] = size_string\n",
    "    size_num = int(size_string[:-1])\n",
    "    units = size_string[-1]\n",
    "    if units == \"B\":\n",
    "        size_num *= 1000\n",
    "    esm_model_size_int[name] = size_num\n",
    "\n",
    "esm_checkpoints = {name: \"facebook/%s\" % name for name in esm_model_names}\n",
    "\n",
    "\n",
    "smallest_model_name = sorted(esm_model_size_int.items(), key=lambda x: x[1])[0][0]\n",
    "biggest_model_name = sorted(esm_model_size_int.items(), key=lambda x: x[1])[-1][0]\n",
    "\n",
    "for name in esm_model_names:\n",
    "    print(\"%20s: depth=%d, size=%s\" % (name, esm_model_depth[name], esm_model_size_string[name]))\n",
    "    \n",
    "print(\"%20s\" % (\"---\",))\n",
    "print(\"%20s: %s\" % (\"Smallest model\", smallest_model_name))\n",
    "\n",
    "print(\"%20s: %s\" % (\"Biggest model\", biggest_model_name))"
   ]
  },
  {
   "cell_type": "code",
   "execution_count": 11,
   "id": "2d37fd55",
   "metadata": {},
   "outputs": [],
   "source": [
    "import pandas as pd\n",
    "df = pd.read_csv(\"../data/swissprot-8mers.csv\")"
   ]
  },
  {
   "cell_type": "code",
   "execution_count": 12,
   "id": "5a9b338a",
   "metadata": {},
   "outputs": [
    {
     "data": {
      "text/html": [
       "<div>\n",
       "<style scoped>\n",
       "    .dataframe tbody tr th:only-of-type {\n",
       "        vertical-align: middle;\n",
       "    }\n",
       "\n",
       "    .dataframe tbody tr th {\n",
       "        vertical-align: top;\n",
       "    }\n",
       "\n",
       "    .dataframe thead th {\n",
       "        text-align: right;\n",
       "    }\n",
       "</style>\n",
       "<table border=\"1\" class=\"dataframe\">\n",
       "  <thead>\n",
       "    <tr style=\"text-align: right;\">\n",
       "      <th></th>\n",
       "      <th>Unnamed: 0</th>\n",
       "      <th>seq</th>\n",
       "      <th>archaea</th>\n",
       "      <th>bacteria</th>\n",
       "      <th>fungi</th>\n",
       "      <th>human</th>\n",
       "      <th>invertebrates</th>\n",
       "      <th>mammals</th>\n",
       "      <th>plants</th>\n",
       "      <th>rodents</th>\n",
       "      <th>vertebrates</th>\n",
       "      <th>viruses</th>\n",
       "      <th>label_count</th>\n",
       "    </tr>\n",
       "  </thead>\n",
       "  <tbody>\n",
       "    <tr>\n",
       "      <th>0</th>\n",
       "      <td>0</td>\n",
       "      <td>MTMDKSEL</td>\n",
       "      <td>False</td>\n",
       "      <td>False</td>\n",
       "      <td>False</td>\n",
       "      <td>True</td>\n",
       "      <td>False</td>\n",
       "      <td>True</td>\n",
       "      <td>False</td>\n",
       "      <td>True</td>\n",
       "      <td>False</td>\n",
       "      <td>False</td>\n",
       "      <td>3</td>\n",
       "    </tr>\n",
       "    <tr>\n",
       "      <th>1</th>\n",
       "      <td>1</td>\n",
       "      <td>TMDKSELV</td>\n",
       "      <td>False</td>\n",
       "      <td>False</td>\n",
       "      <td>False</td>\n",
       "      <td>True</td>\n",
       "      <td>False</td>\n",
       "      <td>True</td>\n",
       "      <td>False</td>\n",
       "      <td>True</td>\n",
       "      <td>False</td>\n",
       "      <td>False</td>\n",
       "      <td>3</td>\n",
       "    </tr>\n",
       "    <tr>\n",
       "      <th>2</th>\n",
       "      <td>2</td>\n",
       "      <td>MDKSELVQ</td>\n",
       "      <td>False</td>\n",
       "      <td>False</td>\n",
       "      <td>False</td>\n",
       "      <td>True</td>\n",
       "      <td>False</td>\n",
       "      <td>True</td>\n",
       "      <td>False</td>\n",
       "      <td>True</td>\n",
       "      <td>True</td>\n",
       "      <td>False</td>\n",
       "      <td>4</td>\n",
       "    </tr>\n",
       "    <tr>\n",
       "      <th>3</th>\n",
       "      <td>3</td>\n",
       "      <td>DKSELVQK</td>\n",
       "      <td>False</td>\n",
       "      <td>False</td>\n",
       "      <td>False</td>\n",
       "      <td>True</td>\n",
       "      <td>False</td>\n",
       "      <td>True</td>\n",
       "      <td>False</td>\n",
       "      <td>True</td>\n",
       "      <td>True</td>\n",
       "      <td>False</td>\n",
       "      <td>4</td>\n",
       "    </tr>\n",
       "    <tr>\n",
       "      <th>4</th>\n",
       "      <td>4</td>\n",
       "      <td>KSELVQKA</td>\n",
       "      <td>False</td>\n",
       "      <td>False</td>\n",
       "      <td>False</td>\n",
       "      <td>True</td>\n",
       "      <td>False</td>\n",
       "      <td>True</td>\n",
       "      <td>False</td>\n",
       "      <td>True</td>\n",
       "      <td>True</td>\n",
       "      <td>False</td>\n",
       "      <td>4</td>\n",
       "    </tr>\n",
       "    <tr>\n",
       "      <th>...</th>\n",
       "      <td>...</td>\n",
       "      <td>...</td>\n",
       "      <td>...</td>\n",
       "      <td>...</td>\n",
       "      <td>...</td>\n",
       "      <td>...</td>\n",
       "      <td>...</td>\n",
       "      <td>...</td>\n",
       "      <td>...</td>\n",
       "      <td>...</td>\n",
       "      <td>...</td>\n",
       "      <td>...</td>\n",
       "      <td>...</td>\n",
       "    </tr>\n",
       "    <tr>\n",
       "      <th>101851838</th>\n",
       "      <td>101851838</td>\n",
       "      <td>LNVLTGTQ</td>\n",
       "      <td>False</td>\n",
       "      <td>False</td>\n",
       "      <td>False</td>\n",
       "      <td>False</td>\n",
       "      <td>False</td>\n",
       "      <td>False</td>\n",
       "      <td>True</td>\n",
       "      <td>False</td>\n",
       "      <td>False</td>\n",
       "      <td>False</td>\n",
       "      <td>1</td>\n",
       "    </tr>\n",
       "    <tr>\n",
       "      <th>101851839</th>\n",
       "      <td>101851839</td>\n",
       "      <td>NVLTGTQE</td>\n",
       "      <td>False</td>\n",
       "      <td>False</td>\n",
       "      <td>False</td>\n",
       "      <td>False</td>\n",
       "      <td>False</td>\n",
       "      <td>False</td>\n",
       "      <td>True</td>\n",
       "      <td>False</td>\n",
       "      <td>False</td>\n",
       "      <td>False</td>\n",
       "      <td>1</td>\n",
       "    </tr>\n",
       "    <tr>\n",
       "      <th>101851840</th>\n",
       "      <td>101851840</td>\n",
       "      <td>VLTGTQEG</td>\n",
       "      <td>False</td>\n",
       "      <td>False</td>\n",
       "      <td>False</td>\n",
       "      <td>False</td>\n",
       "      <td>False</td>\n",
       "      <td>False</td>\n",
       "      <td>True</td>\n",
       "      <td>False</td>\n",
       "      <td>False</td>\n",
       "      <td>False</td>\n",
       "      <td>1</td>\n",
       "    </tr>\n",
       "    <tr>\n",
       "      <th>101851841</th>\n",
       "      <td>101851841</td>\n",
       "      <td>LTGTQEGL</td>\n",
       "      <td>False</td>\n",
       "      <td>False</td>\n",
       "      <td>False</td>\n",
       "      <td>False</td>\n",
       "      <td>False</td>\n",
       "      <td>False</td>\n",
       "      <td>True</td>\n",
       "      <td>False</td>\n",
       "      <td>False</td>\n",
       "      <td>False</td>\n",
       "      <td>1</td>\n",
       "    </tr>\n",
       "    <tr>\n",
       "      <th>101851842</th>\n",
       "      <td>101851842</td>\n",
       "      <td>TGTQEGLR</td>\n",
       "      <td>False</td>\n",
       "      <td>False</td>\n",
       "      <td>False</td>\n",
       "      <td>False</td>\n",
       "      <td>False</td>\n",
       "      <td>False</td>\n",
       "      <td>True</td>\n",
       "      <td>False</td>\n",
       "      <td>False</td>\n",
       "      <td>False</td>\n",
       "      <td>1</td>\n",
       "    </tr>\n",
       "  </tbody>\n",
       "</table>\n",
       "<p>101851843 rows × 13 columns</p>\n",
       "</div>"
      ],
      "text/plain": [
       "           Unnamed: 0       seq  archaea  bacteria  fungi  human  \\\n",
       "0                   0  MTMDKSEL    False     False  False   True   \n",
       "1                   1  TMDKSELV    False     False  False   True   \n",
       "2                   2  MDKSELVQ    False     False  False   True   \n",
       "3                   3  DKSELVQK    False     False  False   True   \n",
       "4                   4  KSELVQKA    False     False  False   True   \n",
       "...               ...       ...      ...       ...    ...    ...   \n",
       "101851838   101851838  LNVLTGTQ    False     False  False  False   \n",
       "101851839   101851839  NVLTGTQE    False     False  False  False   \n",
       "101851840   101851840  VLTGTQEG    False     False  False  False   \n",
       "101851841   101851841  LTGTQEGL    False     False  False  False   \n",
       "101851842   101851842  TGTQEGLR    False     False  False  False   \n",
       "\n",
       "           invertebrates  mammals  plants  rodents  vertebrates  viruses  \\\n",
       "0                  False     True   False     True        False    False   \n",
       "1                  False     True   False     True        False    False   \n",
       "2                  False     True   False     True         True    False   \n",
       "3                  False     True   False     True         True    False   \n",
       "4                  False     True   False     True         True    False   \n",
       "...                  ...      ...     ...      ...          ...      ...   \n",
       "101851838          False    False    True    False        False    False   \n",
       "101851839          False    False    True    False        False    False   \n",
       "101851840          False    False    True    False        False    False   \n",
       "101851841          False    False    True    False        False    False   \n",
       "101851842          False    False    True    False        False    False   \n",
       "\n",
       "           label_count  \n",
       "0                    3  \n",
       "1                    3  \n",
       "2                    4  \n",
       "3                    4  \n",
       "4                    4  \n",
       "...                ...  \n",
       "101851838            1  \n",
       "101851839            1  \n",
       "101851840            1  \n",
       "101851841            1  \n",
       "101851842            1  \n",
       "\n",
       "[101851843 rows x 13 columns]"
      ]
     },
     "execution_count": 12,
     "metadata": {},
     "output_type": "execute_result"
    }
   ],
   "source": [
    "df"
   ]
  },
  {
   "cell_type": "code",
   "execution_count": 18,
   "id": "f53cb01a",
   "metadata": {},
   "outputs": [],
   "source": [
    "sequences = df.seq\n",
    "labels = df.human"
   ]
  },
  {
   "cell_type": "code",
   "execution_count": 19,
   "id": "fe9d79dd",
   "metadata": {},
   "outputs": [],
   "source": [
    "from transformers import AutoTokenizer\n",
    "\n",
    "\n",
    "esm_tokenizer = AutoTokenizer.from_pretrained(esm_checkpoints[smallest_model_name])"
   ]
  },
  {
   "cell_type": "code",
   "execution_count": 20,
   "id": "97f0a0e2",
   "metadata": {},
   "outputs": [
    {
     "data": {
      "text/plain": [
       "{'input_ids': [0, 20, 11, 20, 13, 15, 8, 9, 4, 2], 'attention_mask': [1, 1, 1, 1, 1, 1, 1, 1, 1, 1]}"
      ]
     },
     "execution_count": 20,
     "metadata": {},
     "output_type": "execute_result"
    }
   ],
   "source": [
    "esm_tokenizer(df.seq[0])"
   ]
  },
  {
   "cell_type": "code",
   "execution_count": 21,
   "id": "50d8271b",
   "metadata": {},
   "outputs": [],
   "source": [
    "from tqdm import tqdm\n",
    "import numpy as np \n",
    "import time\n",
    "\n",
    "def tokenize(seqs, lookup=esm_tokenizer._token_to_id):\n",
    "    start_token = lookup[\"<cls>\"]\n",
    "    end_token = lookup[\"<eos>\"]\n",
    "    pad_token = lookup[\"<pad>\"]\n",
    "    n = len(seqs)\n",
    "    t0 = time.time()\n",
    "    lengths = [len(s) for s in seqs]\n",
    "    max_seq_length = max(lengths)\n",
    "    t1 = time.time()\n",
    "    print(\"Got sequence lengths in %0.2fs\" % (t1 - t0))\n",
    "    \n",
    "    m = max_seq_length + 2 # format will be <cls> peptide <eos> \n",
    "    unique_token_ids = np.array(list(lookup.values()))\n",
    "    min_token_id = unique_token_ids.min()\n",
    "    assert min_token_id >= 0\n",
    "    max_token_id = unique_token_ids.max()\n",
    "    \n",
    "    if max_token_id < 2 ** 8:\n",
    "        dtype = 'uint8'\n",
    "    elif max_token_id < 2 ** 16:\n",
    "        dtype = 'uint16'\n",
    "    else:\n",
    "        raise ValueError(\"max token ID too large\")\n",
    "    \n",
    "    result = np.empty(shape=(n, m), dtype=dtype)\n",
    "    result.fill(pad_token)\n",
    "    t2 = time.time()\n",
    "    print(\"Created token_ids array (shape=%dx%d, bytes=%0.2fG) in %0.2fs\" % (\n",
    "        result.shape[0],\n",
    "        result.shape[1],\n",
    "        result.nbytes / (1024 * 1024 * 1024), t2 - t1))\n",
    "    \n",
    "    ascii_values = {ord(aa) for aa in lookup.keys() if len(aa) == 1}\n",
    "    max_ascii_value = max(ascii_values)\n",
    "    table = [pad_token] * (max_ascii_value + 1)\n",
    "    for (token, token_id) in lookup.items():\n",
    "        if len(token) > 1:\n",
    "            continue\n",
    "        table[ord(token)] = token_id\n",
    "    \n",
    "    t3 = time.time()\n",
    "    print(\"Created list of token ID lookups in %0.2fs\" % (\n",
    "        t3 - t2,))\n",
    "    \n",
    "    # fill the first position of each token_ids sequence with the start token\n",
    "    result[:, 0] = start_token\n",
    "\n",
    "    for i, (seq, length) in tqdm(enumerate(zip(seqs, lengths))):\n",
    "        result[i, 1:length + 1] = [lookup[aa] for aa in seq]\n",
    "        result[i, length + 1] = end_token\n",
    "    t4 = time.time()\n",
    "    print(\"Filled token_ids array in %0.2fs\" % (t4 - t3))\n",
    "    return result\n"
   ]
  },
  {
   "cell_type": "code",
   "execution_count": 22,
   "id": "c7d280ff",
   "metadata": {},
   "outputs": [
    {
     "name": "stdout",
     "output_type": "stream",
     "text": [
      "Got sequence lengths in 5.99s\n",
      "Created token_ids array (shape=101851843x10, bytes=0.95G) in 0.09s\n",
      "Created list of token ID lookups in 0.00s\n"
     ]
    },
    {
     "name": "stderr",
     "output_type": "stream",
     "text": [
      "101851843it [01:19, 1282699.10it/s]\n"
     ]
    },
    {
     "name": "stdout",
     "output_type": "stream",
     "text": [
      "Filled token_ids array in 79.73s\n",
      "CPU times: user 1min 24s, sys: 1.42 s, total: 1min 26s\n",
      "Wall time: 1min 26s\n"
     ]
    }
   ],
   "source": [
    "%time sequences_tokenized = tokenize(sequences)"
   ]
  },
  {
   "cell_type": "code",
   "execution_count": 23,
   "id": "b9037f88",
   "metadata": {},
   "outputs": [],
   "source": [
    "from sklearn.model_selection import train_test_split\n",
    "sequences = list(df.seq.values)\n",
    "labels = df.human.values\n",
    "\n",
    "train_sequences, test_sequences, train_labels, test_labels = \\\n",
    "    train_test_split(sequences_tokenized, labels, test_size=0.25, shuffle=True)\n",
    "\n"
   ]
  },
  {
   "cell_type": "code",
   "execution_count": 24,
   "id": "17b63376",
   "metadata": {},
   "outputs": [
    {
     "data": {
      "text/plain": [
       "76388882"
      ]
     },
     "execution_count": 24,
     "metadata": {},
     "output_type": "execute_result"
    }
   ],
   "source": [
    "len(train_sequences)"
   ]
  },
  {
   "cell_type": "code",
   "execution_count": 25,
   "id": "c931cc22",
   "metadata": {},
   "outputs": [
    {
     "data": {
      "text/plain": [
       "25462961"
      ]
     },
     "execution_count": 25,
     "metadata": {},
     "output_type": "execute_result"
    }
   ],
   "source": [
    "len(test_sequences)"
   ]
  },
  {
   "cell_type": "code",
   "execution_count": 26,
   "id": "fccf3604",
   "metadata": {},
   "outputs": [
    {
     "data": {
      "text/plain": [
       "76388882"
      ]
     },
     "execution_count": 26,
     "metadata": {},
     "output_type": "execute_result"
    }
   ],
   "source": [
    "len(train_labels)"
   ]
  },
  {
   "cell_type": "code",
   "execution_count": 26,
   "id": "2c57ef5e",
   "metadata": {},
   "outputs": [
    {
     "data": {
      "text/plain": [
       "25462961"
      ]
     },
     "execution_count": 26,
     "metadata": {},
     "output_type": "execute_result"
    }
   ],
   "source": [
    "len(test_labels)"
   ]
  },
  {
   "cell_type": "code",
   "execution_count": 27,
   "id": "a33f3235",
   "metadata": {},
   "outputs": [],
   "source": [
    "import esm \n",
    "\n",
    "model_8M, alphabet = esm.pretrained.esm2_t6_8M_UR50D()\n",
    "batch_converter = alphabet.get_batch_converter()\n",
    "data = [\n",
    "    (\"protein1\", \"MKTVRQERLKSIVRILERSKEPVSGAQLAEELSVSRQVIVQDIAYLRSLGYNIVATPRGYVLAGG\"),\n",
    "    (\"protein2\", \"KALTARQQEVFDLIRDHISQTGMPPTRAEIAQRLGFRSPNAAEEHLKALARKGVIEIVSGASRGIRLLQEE\"),\n",
    "    (\"protein2 with mask\",\"KALTARQQEVFDLIRD<mask>ISQTGMPPTRAEIAQRLGFRSPNAAEEHLKALARKGVIEIVSGASRGIRLLQEE\"),\n",
    "    (\"protein3\",  \"K A <mask> I S Q\"),\n",
    "]\n",
    "batch_labels, batch_strs, batch_tokens = batch_converter(data)"
   ]
  },
  {
   "cell_type": "code",
   "execution_count": 29,
   "id": "2cd93dbc",
   "metadata": {},
   "outputs": [
    {
     "name": "stdout",
     "output_type": "stream",
     "text": [
      "Got sequence lengths in 0.00s\n",
      "Created token_ids array (shape=1x67, bytes=0.00G) in 0.00s\n",
      "Created list of token ID lookups in 0.00s\n"
     ]
    },
    {
     "name": "stderr",
     "output_type": "stream",
     "text": [
      "1it [00:00, 26886.56it/s]"
     ]
    },
    {
     "name": "stdout",
     "output_type": "stream",
     "text": [
      "Filled token_ids array in 0.00s\n"
     ]
    },
    {
     "name": "stderr",
     "output_type": "stream",
     "text": [
      "\n"
     ]
    }
   ],
   "source": [
    "token_ids = tokenize([\"MKTVRQERLKSIVRILERSKEPVSGAQLAEELSVSRQVIVQDIAYLRSLGYNIVATPRGYVLAGG\"])"
   ]
  },
  {
   "cell_type": "code",
   "execution_count": 39,
   "id": "3337ae20",
   "metadata": {},
   "outputs": [
    {
     "data": {
      "text/plain": [
       "torch.Tensor"
      ]
     },
     "execution_count": 39,
     "metadata": {},
     "output_type": "execute_result"
    }
   ],
   "source": [
    "type(token_ids)"
   ]
  },
  {
   "cell_type": "code",
   "execution_count": 30,
   "id": "640e37de",
   "metadata": {},
   "outputs": [],
   "source": [
    "import torch\n",
    "if type(token_ids) is not torch.Tensor:\n",
    "    token_ids = torch.from_numpy(token_ids.astype('int32'))\n",
    "\n",
    "# Extract per-residue representations (on CPU)\n",
    "repr_layer_idx = 6\n",
    "\n",
    "\n",
    "with torch.no_grad():\n",
    "    results = model_8M(token_ids, repr_layers=[repr_layer_idx])\n",
    "token_representations = results[\"representations\"][repr_layer_idx]"
   ]
  },
  {
   "cell_type": "code",
   "execution_count": 31,
   "id": "f45c3c5b",
   "metadata": {},
   "outputs": [
    {
     "data": {
      "text/plain": [
       "{'logits': tensor([[[ 13.9791,  -9.0924,  -6.5645,  ..., -14.8934, -15.2000,  -9.0806],\n",
       "          [ -8.2908, -14.3483,  -9.2372,  ..., -15.6513, -15.9180, -14.3464],\n",
       "          [-13.0977, -23.2342, -13.0121,  ..., -16.0929, -16.0443, -23.2163],\n",
       "          ...,\n",
       "          [-11.8081, -23.6640, -13.1323,  ..., -16.5725, -16.6506, -23.6672],\n",
       "          [-11.6440, -21.9399, -11.6811,  ..., -16.2364, -16.2875, -21.9438],\n",
       "          [ -5.6318,  -6.4352,  19.2604,  ..., -16.4212, -16.2883,  -6.4788]]]),\n",
       " 'representations': {6: tensor([[[ 0.2231,  0.5661,  0.1139,  ...,  1.0212, -0.1900, -0.6870],\n",
       "           [ 0.4873,  0.2405, -0.1978,  ...,  0.6398, -0.0806, -0.3449],\n",
       "           [-0.1065, -0.3528, -0.1022,  ..., -0.1548,  0.2464,  0.0080],\n",
       "           ...,\n",
       "           [-0.2542, -0.3260,  0.6081,  ...,  0.2127, -0.1515, -0.6503],\n",
       "           [-0.0516, -0.1907,  0.3541,  ..., -0.0673, -0.0118, -0.5485],\n",
       "           [-0.1355,  0.0183,  0.1578,  ...,  0.2765, -0.7183, -0.4105]]])}}"
      ]
     },
     "execution_count": 31,
     "metadata": {},
     "output_type": "execute_result"
    }
   ],
   "source": [
    "results"
   ]
  },
  {
   "cell_type": "code",
   "execution_count": 96,
   "id": "11974f2e",
   "metadata": {},
   "outputs": [],
   "source": [
    "import torch\n",
    "import torch.nn.functional as F\n",
    "import torch.nn as nn\n",
    "\n",
    "class ProteinClassifier(nn.Module):\n",
    "    def __init__(self, n_classes):\n",
    "        super(ProteinClassifier, self).__init__()\n",
    "        self.esm, _ = esm.pretrained.esm2_t33_650M_UR50D()\n",
    "        self.last_esm_layer = self.esm.layers[32]\n",
    "     \n",
    "        self.last_esm_layer_dim = self.last_esm_layer.fc2.out_features\n",
    "        \n",
    "        self.classifier = nn.Sequential(nn.Dropout(p=0.2),\n",
    "                                        nn.Linear(self.last_esm_layer_dim, n_classes),\n",
    "                                        nn.Sigmoid())\n",
    "        \n",
    "    def forward(self, input_ids):\n",
    "        output = self.esm(input_ids)\n",
    "        return self.classifier(output.pooler_output)\n",
    "    \n",
    "prot_model = ProteinClassifier(2)"
   ]
  },
  {
   "cell_type": "code",
   "execution_count": null,
   "id": "e8a93872",
   "metadata": {},
   "outputs": [],
   "source": [
    "train_tensor = torch.from_numpy(train_sequences.astype('int32'))\n",
    "print(train_tensor.shape)\n",
    "\n",
    "train_out = prot_model(train_tensor)\n",
    "print(train_out.shape)"
   ]
  },
  {
   "cell_type": "code",
   "execution_count": 103,
   "id": "38b2f6b8",
   "metadata": {},
   "outputs": [
    {
     "data": {
      "text/plain": [
       "dtype('uint8')"
      ]
     },
     "execution_count": 103,
     "metadata": {},
     "output_type": "execute_result"
    }
   ],
   "source": [
    "train_sequences.dtype"
   ]
  },
  {
   "cell_type": "code",
   "execution_count": null,
   "id": "5b16ffa3",
   "metadata": {},
   "outputs": [],
   "source": []
  }
 ],
 "metadata": {
  "kernelspec": {
   "display_name": "Python 3 (ipykernel)",
   "language": "python",
   "name": "python3"
  },
  "language_info": {
   "codemirror_mode": {
    "name": "ipython",
    "version": 3
   },
   "file_extension": ".py",
   "mimetype": "text/x-python",
   "name": "python",
   "nbconvert_exporter": "python",
   "pygments_lexer": "ipython3",
   "version": "3.10.10"
  }
 },
 "nbformat": 4,
 "nbformat_minor": 5
}
