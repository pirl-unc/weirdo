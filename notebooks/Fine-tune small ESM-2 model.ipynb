{
 "cells": [
  {
   "cell_type": "code",
   "execution_count": 1,
   "id": "a99e4da1",
   "metadata": {},
   "outputs": [],
   "source": [
    "model_checkpoint = \"facebook/esm2_t6_8M_UR50D\""
   ]
  },
  {
   "cell_type": "code",
   "execution_count": 2,
   "id": "2d37fd55",
   "metadata": {},
   "outputs": [],
   "source": [
    "import pandas as pd\n",
    "df = pd.read_csv(\"../data/swissprot-8mers.csv\")"
   ]
  },
  {
   "cell_type": "code",
   "execution_count": 3,
   "id": "5a9b338a",
   "metadata": {},
   "outputs": [
    {
     "data": {
      "text/html": [
       "<div>\n",
       "<style scoped>\n",
       "    .dataframe tbody tr th:only-of-type {\n",
       "        vertical-align: middle;\n",
       "    }\n",
       "\n",
       "    .dataframe tbody tr th {\n",
       "        vertical-align: top;\n",
       "    }\n",
       "\n",
       "    .dataframe thead th {\n",
       "        text-align: right;\n",
       "    }\n",
       "</style>\n",
       "<table border=\"1\" class=\"dataframe\">\n",
       "  <thead>\n",
       "    <tr style=\"text-align: right;\">\n",
       "      <th></th>\n",
       "      <th>Unnamed: 0</th>\n",
       "      <th>seq</th>\n",
       "      <th>archaea</th>\n",
       "      <th>bacteria</th>\n",
       "      <th>fungi</th>\n",
       "      <th>human</th>\n",
       "      <th>invertebrates</th>\n",
       "      <th>mammals</th>\n",
       "      <th>plants</th>\n",
       "      <th>rodents</th>\n",
       "      <th>vertebrates</th>\n",
       "      <th>viruses</th>\n",
       "      <th>label_count</th>\n",
       "    </tr>\n",
       "  </thead>\n",
       "  <tbody>\n",
       "    <tr>\n",
       "      <th>0</th>\n",
       "      <td>0</td>\n",
       "      <td>MTMDKSEL</td>\n",
       "      <td>False</td>\n",
       "      <td>False</td>\n",
       "      <td>False</td>\n",
       "      <td>True</td>\n",
       "      <td>False</td>\n",
       "      <td>True</td>\n",
       "      <td>False</td>\n",
       "      <td>True</td>\n",
       "      <td>False</td>\n",
       "      <td>False</td>\n",
       "      <td>3</td>\n",
       "    </tr>\n",
       "    <tr>\n",
       "      <th>1</th>\n",
       "      <td>1</td>\n",
       "      <td>TMDKSELV</td>\n",
       "      <td>False</td>\n",
       "      <td>False</td>\n",
       "      <td>False</td>\n",
       "      <td>True</td>\n",
       "      <td>False</td>\n",
       "      <td>True</td>\n",
       "      <td>False</td>\n",
       "      <td>True</td>\n",
       "      <td>False</td>\n",
       "      <td>False</td>\n",
       "      <td>3</td>\n",
       "    </tr>\n",
       "    <tr>\n",
       "      <th>2</th>\n",
       "      <td>2</td>\n",
       "      <td>MDKSELVQ</td>\n",
       "      <td>False</td>\n",
       "      <td>False</td>\n",
       "      <td>False</td>\n",
       "      <td>True</td>\n",
       "      <td>False</td>\n",
       "      <td>True</td>\n",
       "      <td>False</td>\n",
       "      <td>True</td>\n",
       "      <td>True</td>\n",
       "      <td>False</td>\n",
       "      <td>4</td>\n",
       "    </tr>\n",
       "    <tr>\n",
       "      <th>3</th>\n",
       "      <td>3</td>\n",
       "      <td>DKSELVQK</td>\n",
       "      <td>False</td>\n",
       "      <td>False</td>\n",
       "      <td>False</td>\n",
       "      <td>True</td>\n",
       "      <td>False</td>\n",
       "      <td>True</td>\n",
       "      <td>False</td>\n",
       "      <td>True</td>\n",
       "      <td>True</td>\n",
       "      <td>False</td>\n",
       "      <td>4</td>\n",
       "    </tr>\n",
       "    <tr>\n",
       "      <th>4</th>\n",
       "      <td>4</td>\n",
       "      <td>KSELVQKA</td>\n",
       "      <td>False</td>\n",
       "      <td>False</td>\n",
       "      <td>False</td>\n",
       "      <td>True</td>\n",
       "      <td>False</td>\n",
       "      <td>True</td>\n",
       "      <td>False</td>\n",
       "      <td>True</td>\n",
       "      <td>True</td>\n",
       "      <td>False</td>\n",
       "      <td>4</td>\n",
       "    </tr>\n",
       "    <tr>\n",
       "      <th>...</th>\n",
       "      <td>...</td>\n",
       "      <td>...</td>\n",
       "      <td>...</td>\n",
       "      <td>...</td>\n",
       "      <td>...</td>\n",
       "      <td>...</td>\n",
       "      <td>...</td>\n",
       "      <td>...</td>\n",
       "      <td>...</td>\n",
       "      <td>...</td>\n",
       "      <td>...</td>\n",
       "      <td>...</td>\n",
       "      <td>...</td>\n",
       "    </tr>\n",
       "    <tr>\n",
       "      <th>101851838</th>\n",
       "      <td>101851838</td>\n",
       "      <td>LNVLTGTQ</td>\n",
       "      <td>False</td>\n",
       "      <td>False</td>\n",
       "      <td>False</td>\n",
       "      <td>False</td>\n",
       "      <td>False</td>\n",
       "      <td>False</td>\n",
       "      <td>True</td>\n",
       "      <td>False</td>\n",
       "      <td>False</td>\n",
       "      <td>False</td>\n",
       "      <td>1</td>\n",
       "    </tr>\n",
       "    <tr>\n",
       "      <th>101851839</th>\n",
       "      <td>101851839</td>\n",
       "      <td>NVLTGTQE</td>\n",
       "      <td>False</td>\n",
       "      <td>False</td>\n",
       "      <td>False</td>\n",
       "      <td>False</td>\n",
       "      <td>False</td>\n",
       "      <td>False</td>\n",
       "      <td>True</td>\n",
       "      <td>False</td>\n",
       "      <td>False</td>\n",
       "      <td>False</td>\n",
       "      <td>1</td>\n",
       "    </tr>\n",
       "    <tr>\n",
       "      <th>101851840</th>\n",
       "      <td>101851840</td>\n",
       "      <td>VLTGTQEG</td>\n",
       "      <td>False</td>\n",
       "      <td>False</td>\n",
       "      <td>False</td>\n",
       "      <td>False</td>\n",
       "      <td>False</td>\n",
       "      <td>False</td>\n",
       "      <td>True</td>\n",
       "      <td>False</td>\n",
       "      <td>False</td>\n",
       "      <td>False</td>\n",
       "      <td>1</td>\n",
       "    </tr>\n",
       "    <tr>\n",
       "      <th>101851841</th>\n",
       "      <td>101851841</td>\n",
       "      <td>LTGTQEGL</td>\n",
       "      <td>False</td>\n",
       "      <td>False</td>\n",
       "      <td>False</td>\n",
       "      <td>False</td>\n",
       "      <td>False</td>\n",
       "      <td>False</td>\n",
       "      <td>True</td>\n",
       "      <td>False</td>\n",
       "      <td>False</td>\n",
       "      <td>False</td>\n",
       "      <td>1</td>\n",
       "    </tr>\n",
       "    <tr>\n",
       "      <th>101851842</th>\n",
       "      <td>101851842</td>\n",
       "      <td>TGTQEGLR</td>\n",
       "      <td>False</td>\n",
       "      <td>False</td>\n",
       "      <td>False</td>\n",
       "      <td>False</td>\n",
       "      <td>False</td>\n",
       "      <td>False</td>\n",
       "      <td>True</td>\n",
       "      <td>False</td>\n",
       "      <td>False</td>\n",
       "      <td>False</td>\n",
       "      <td>1</td>\n",
       "    </tr>\n",
       "  </tbody>\n",
       "</table>\n",
       "<p>101851843 rows × 13 columns</p>\n",
       "</div>"
      ],
      "text/plain": [
       "           Unnamed: 0       seq  archaea  bacteria  fungi  human  \\\n",
       "0                   0  MTMDKSEL    False     False  False   True   \n",
       "1                   1  TMDKSELV    False     False  False   True   \n",
       "2                   2  MDKSELVQ    False     False  False   True   \n",
       "3                   3  DKSELVQK    False     False  False   True   \n",
       "4                   4  KSELVQKA    False     False  False   True   \n",
       "...               ...       ...      ...       ...    ...    ...   \n",
       "101851838   101851838  LNVLTGTQ    False     False  False  False   \n",
       "101851839   101851839  NVLTGTQE    False     False  False  False   \n",
       "101851840   101851840  VLTGTQEG    False     False  False  False   \n",
       "101851841   101851841  LTGTQEGL    False     False  False  False   \n",
       "101851842   101851842  TGTQEGLR    False     False  False  False   \n",
       "\n",
       "           invertebrates  mammals  plants  rodents  vertebrates  viruses  \\\n",
       "0                  False     True   False     True        False    False   \n",
       "1                  False     True   False     True        False    False   \n",
       "2                  False     True   False     True         True    False   \n",
       "3                  False     True   False     True         True    False   \n",
       "4                  False     True   False     True         True    False   \n",
       "...                  ...      ...     ...      ...          ...      ...   \n",
       "101851838          False    False    True    False        False    False   \n",
       "101851839          False    False    True    False        False    False   \n",
       "101851840          False    False    True    False        False    False   \n",
       "101851841          False    False    True    False        False    False   \n",
       "101851842          False    False    True    False        False    False   \n",
       "\n",
       "           label_count  \n",
       "0                    3  \n",
       "1                    3  \n",
       "2                    4  \n",
       "3                    4  \n",
       "4                    4  \n",
       "...                ...  \n",
       "101851838            1  \n",
       "101851839            1  \n",
       "101851840            1  \n",
       "101851841            1  \n",
       "101851842            1  \n",
       "\n",
       "[101851843 rows x 13 columns]"
      ]
     },
     "execution_count": 3,
     "metadata": {},
     "output_type": "execute_result"
    }
   ],
   "source": [
    "df"
   ]
  },
  {
   "cell_type": "code",
   "execution_count": 4,
   "id": "f53cb01a",
   "metadata": {},
   "outputs": [],
   "source": [
    "sequences = df.seq\n",
    "labels = df.human"
   ]
  },
  {
   "cell_type": "code",
   "execution_count": 5,
   "id": "fe9d79dd",
   "metadata": {},
   "outputs": [],
   "source": [
    "from transformers import AutoTokenizer\n",
    "\n",
    "esm_tokenizer = AutoTokenizer.from_pretrained(model_checkpoint)"
   ]
  },
  {
   "cell_type": "code",
   "execution_count": 6,
   "id": "97f0a0e2",
   "metadata": {},
   "outputs": [
    {
     "data": {
      "text/plain": [
       "{'input_ids': [0, 20, 11, 20, 13, 15, 8, 9, 4, 2], 'attention_mask': [1, 1, 1, 1, 1, 1, 1, 1, 1, 1]}"
      ]
     },
     "execution_count": 6,
     "metadata": {},
     "output_type": "execute_result"
    }
   ],
   "source": [
    "esm_tokenizer(df.seq[0])"
   ]
  },
  {
   "cell_type": "code",
   "execution_count": 70,
   "id": "50d8271b",
   "metadata": {},
   "outputs": [],
   "source": [
    "from tqdm import tqdm\n",
    "import numpy as np \n",
    "import time\n",
    "\n",
    "def tokenize(seqs, lookup=esm_tokenizer._token_to_id):\n",
    "    start_token = lookup[\"<cls>\"]\n",
    "    end_token = lookup[\"<eos>\"]\n",
    "    pad_token = lookup[\"<pad>\"]\n",
    "    n = len(seqs)\n",
    "    t0 = time.time()\n",
    "    lengths = [len(s) for s in seqs]\n",
    "    max_seq_length = max(lengths)\n",
    "    t1 = time.time()\n",
    "    print(\"Got sequence lengths in %0.2fs\" % (t1 - t0))\n",
    "    \n",
    "    m = max_seq_length + 2 # format will be <cls> peptide <eos> \n",
    "    unique_token_ids = np.array(list(lookup.values()))\n",
    "    min_token_id = unique_token_ids.min()\n",
    "    assert min_token_id >= 0\n",
    "    max_token_id = unique_token_ids.max()\n",
    "    \n",
    "    if max_token_id < 2 ** 8:\n",
    "        dtype = 'uint8'\n",
    "    elif max_token_id < 2 ** 16:\n",
    "        dtype = 'uint16'\n",
    "    else:\n",
    "        raise ValueError(\"max token ID too large\")\n",
    "    \n",
    "    result = np.empty(shape=(n, m), dtype=dtype)\n",
    "    result.fill(pad_token)\n",
    "    t2 = time.time()\n",
    "    print(\"Created token_ids array (shape=%dx%d, bytes=%0.2fG) in %0.2fs\" % (\n",
    "        result.shape[0],\n",
    "        result.shape[1],\n",
    "        result.nbytes / (1024 * 1024 * 1024), t2 - t1))\n",
    "    \n",
    "    ascii_values = {ord(aa) for aa in lookup.keys() if len(aa) == 1}\n",
    "    max_ascii_value = max(ascii_values)\n",
    "    table = [pad_token] * (max_ascii_value + 1)\n",
    "    for (token, token_id) in lookup.items():\n",
    "        if len(token) > 1:\n",
    "            continue\n",
    "        table[ord(token)] = token_id\n",
    "    \n",
    "    t3 = time.time()\n",
    "    print(\"Created list of token ID lookups in %0.2fs\" % (\n",
    "        t3 - t2,))\n",
    "    \n",
    "    # fill the first position of each token_ids sequence with the start token\n",
    "    result[:, 0] = start_token\n",
    "\n",
    "    for i, (seq, length) in tqdm(enumerate(zip(seqs, lengths))):\n",
    "        result[i, 1:length + 1] = [lookup[aa] for aa in seq]\n",
    "        result[i, length + 1] = end_token\n",
    "    t4 = time.time()\n",
    "    print(\"Filled token_ids array in %0.2fs\" % (t4 - t3))\n",
    "    return result\n"
   ]
  },
  {
   "cell_type": "code",
   "execution_count": 71,
   "id": "c7d280ff",
   "metadata": {},
   "outputs": [
    {
     "name": "stdout",
     "output_type": "stream",
     "text": [
      "Got sequence lengths in 3.49s\n",
      "Created token_ids array (shape=101851843x10, bytes=0.95G) in 0.10s\n",
      "Created list of token ID lookups in 0.00s\n"
     ]
    },
    {
     "name": "stderr",
     "output_type": "stream",
     "text": [
      "101851843it [01:20, 1264983.77it/s]\n"
     ]
    },
    {
     "name": "stdout",
     "output_type": "stream",
     "text": [
      "Filled token_ids array in 80.58s\n",
      "CPU times: user 1min 23s, sys: 781 ms, total: 1min 24s\n",
      "Wall time: 1min 24s\n"
     ]
    }
   ],
   "source": [
    "%time sequences_tokenized = tokenize(sequences)"
   ]
  },
  {
   "cell_type": "code",
   "execution_count": 9,
   "id": "b9037f88",
   "metadata": {},
   "outputs": [],
   "source": [
    "from sklearn.model_selection import train_test_split\n",
    "sequences = list(df.seq.values)\n",
    "labels = df.human.values\n",
    "\n",
    "train_sequences, test_sequences, train_labels, test_labels = \\\n",
    "    train_test_split(sequences_tokenized, labels, test_size=0.25, shuffle=True)\n",
    "\n"
   ]
  },
  {
   "cell_type": "code",
   "execution_count": 72,
   "id": "17b63376",
   "metadata": {},
   "outputs": [
    {
     "data": {
      "text/plain": [
       "76388882"
      ]
     },
     "execution_count": 72,
     "metadata": {},
     "output_type": "execute_result"
    }
   ],
   "source": [
    "len(train_sequences)"
   ]
  },
  {
   "cell_type": "code",
   "execution_count": 73,
   "id": "c931cc22",
   "metadata": {},
   "outputs": [
    {
     "data": {
      "text/plain": [
       "25462961"
      ]
     },
     "execution_count": 73,
     "metadata": {},
     "output_type": "execute_result"
    }
   ],
   "source": [
    "len(test_sequences)"
   ]
  },
  {
   "cell_type": "code",
   "execution_count": 74,
   "id": "fccf3604",
   "metadata": {},
   "outputs": [
    {
     "data": {
      "text/plain": [
       "76388882"
      ]
     },
     "execution_count": 74,
     "metadata": {},
     "output_type": "execute_result"
    }
   ],
   "source": [
    "len(train_labels)"
   ]
  },
  {
   "cell_type": "code",
   "execution_count": 75,
   "id": "2c57ef5e",
   "metadata": {},
   "outputs": [
    {
     "data": {
      "text/plain": [
       "25462961"
      ]
     },
     "execution_count": 75,
     "metadata": {},
     "output_type": "execute_result"
    }
   ],
   "source": [
    "len(test_labels)"
   ]
  },
  {
   "cell_type": "code",
   "execution_count": null,
   "id": "a33f3235",
   "metadata": {},
   "outputs": [],
   "source": []
  }
 ],
 "metadata": {
  "kernelspec": {
   "display_name": "Python 3 (ipykernel)",
   "language": "python",
   "name": "python3"
  },
  "language_info": {
   "codemirror_mode": {
    "name": "ipython",
    "version": 3
   },
   "file_extension": ".py",
   "mimetype": "text/x-python",
   "name": "python",
   "nbconvert_exporter": "python",
   "pygments_lexer": "ipython3",
   "version": "3.10.10"
  }
 },
 "nbformat": 4,
 "nbformat_minor": 5
}
